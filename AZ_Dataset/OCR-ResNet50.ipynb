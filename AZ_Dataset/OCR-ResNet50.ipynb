{
 "cells": [
  {
   "cell_type": "code",
   "execution_count": 1,
   "id": "9059f52f",
   "metadata": {},
   "outputs": [],
   "source": [
    "import tensorflow as tf\n",
    "import tensorflow_hub as hub\n",
    "import numpy as np\n",
    "import pandas as pd\n",
    "from sklearn.model_selection import train_test_split\n",
    "from tensorflow.keras import layers\n",
    "# Get TensorFlow Datasets\n",
    "import tensorflow_datasets as tfds\n",
    "resnet_url=\"https://tfhub.dev/google/imagenet/resnet_v2_50/feature_vector/5\"\n",
    "dataPath = \"A_Z Handwritten Data.csv\""
   ]
  },
  {
   "cell_type": "markdown",
   "id": "c4d410e5",
   "metadata": {},
   "source": [
    "Start with MNIST Data"
   ]
  },
  {
   "cell_type": "code",
   "execution_count": 2,
   "id": "e73cd302",
   "metadata": {},
   "outputs": [
    {
     "name": "stdout",
     "output_type": "stream",
     "text": [
      "True\n"
     ]
    }
   ],
   "source": [
    "# List available datasets\n",
    "datasets_list = tfds.list_builders() # get all available datasets in TFDS\n",
    "print(\"mnist\" in datasets_list) # is the dataset we're after available?"
   ]
  },
  {
   "cell_type": "code",
   "execution_count": 3,
   "id": "819906a9",
   "metadata": {},
   "outputs": [],
   "source": [
    "# Load in the data (takes about 5-6 minutes in Google Colab)\n",
    "(Num_train_data, Num_test_data, Num_valid_data), ds_info = tfds.load(name=\"mnist\", # target dataset to get from TFDS\n",
    "                                             split=[\"train[:90%]\", \"test\", \"train[90%:]\"], # what splits of data should we get? note: not all datasets have train, valid, test\n",
    "                                             shuffle_files=True, # shuffle files on download?\n",
    "                                             as_supervised=True, # download data in tuple format (sample, label), e.g. (image, label)\n",
    "                                             with_info=True) # include dataset metadata? if so, tfds.load() returns tuple (data, ds_info)"
   ]
  },
  {
   "cell_type": "code",
   "execution_count": 4,
   "id": "640aa23b",
   "metadata": {},
   "outputs": [
    {
     "name": "stdout",
     "output_type": "stream",
     "text": [
      "Train set size:  54000\n",
      "Test set size:  10000\n",
      "Valid set size:  6000\n"
     ]
    }
   ],
   "source": [
    "print(\"Train set size: \", len(Num_train_data)) \n",
    "print(\"Test set size: \", len(Num_test_data))  \n",
    "print(\"Valid set size: \", len(Num_valid_data))  "
   ]
  },
  {
   "cell_type": "code",
   "execution_count": 5,
   "id": "c50f21c3",
   "metadata": {},
   "outputs": [
    {
     "data": {
      "text/plain": [
       "<_OptionsDataset element_spec=(TensorSpec(shape=(28, 28, 1), dtype=tf.uint8, name=None), TensorSpec(shape=(), dtype=tf.int64, name=None))>"
      ]
     },
     "execution_count": 5,
     "metadata": {},
     "output_type": "execute_result"
    }
   ],
   "source": [
    "Num_train_data"
   ]
  },
  {
   "cell_type": "code",
   "execution_count": 6,
   "id": "4793ad85",
   "metadata": {},
   "outputs": [
    {
     "data": {
      "text/plain": [
       "['0', '1', '2', '3', '4', '5', '6', '7', '8', '9']"
      ]
     },
     "execution_count": 6,
     "metadata": {},
     "output_type": "execute_result"
    }
   ],
   "source": [
    "class_names = ds_info.features[\"label\"].names\n",
    "class_names[:10]"
   ]
  },
  {
   "cell_type": "code",
   "execution_count": 7,
   "id": "d017a797",
   "metadata": {},
   "outputs": [],
   "source": [
    "train_data_sample = Num_train_data.take(1)"
   ]
  },
  {
   "cell_type": "code",
   "execution_count": 8,
   "id": "567e1c07",
   "metadata": {},
   "outputs": [
    {
     "name": "stdout",
     "output_type": "stream",
     "text": [
      "\n",
      "    Image Shape: (28, 28, 1),\n",
      "    Image dtype: <dtype: 'uint8'>,\n",
      "    Target class from (tensor form): 4\n",
      "    Class name (str form): 4\n",
      "    \n"
     ]
    }
   ],
   "source": [
    "for image, label in train_data_sample:\n",
    "    print(f\"\"\"\n",
    "    Image Shape: {image.shape},\n",
    "    Image dtype: {image.dtype},\n",
    "    Target class from (tensor form): {label}\n",
    "    Class name (str form): {class_names[label]}\n",
    "    \"\"\")"
   ]
  },
  {
   "cell_type": "code",
   "execution_count": 9,
   "id": "5381d514",
   "metadata": {},
   "outputs": [
    {
     "data": {
      "text/plain": [
       "<matplotlib.image.AxesImage at 0x213e3204940>"
      ]
     },
     "execution_count": 9,
     "metadata": {},
     "output_type": "execute_result"
    },
    {
     "data": {
      "image/png": "[encoded data removed]",
      "text/plain": [
       "<Figure size 432x288 with 1 Axes>"
      ]
     },
     "metadata": {
      "needs_background": "light"
     },
     "output_type": "display_data"
    }
   ],
   "source": [
    "import matplotlib.pyplot as plt\n",
    "plt.imshow(image ,cmap='gray')"
   ]
  },
  {
   "cell_type": "code",
   "execution_count": 10,
   "id": "3c848998",
   "metadata": {},
   "outputs": [],
   "source": [
    "def preprocess_img(image, label):\n",
    "    \"\"\"\n",
    "    Converts image datatype from 'uint8' -> 'float32' and reshapes image to\n",
    "    [img_shape, img_shape, color_channels]\n",
    "    \"\"\"\n",
    "    image = tf.cast(image, tf.float32)\n",
    "    image = image/255.\n",
    "    return image, label # return (float32_image, label) tuple"
   ]
  },
  {
   "cell_type": "code",
   "execution_count": 11,
   "id": "04803a6d",
   "metadata": {},
   "outputs": [],
   "source": [
    "# Map preprocessing function to training data (and paralellize)\n",
    "Num_train_data = Num_train_data.map(map_func=preprocess_img, num_parallel_calls=tf.data.AUTOTUNE)\n",
    "# Shuffle train_data and turn it into batches and prefetch it (load it faster)\n",
    "Num_train_data = Num_train_data.batch(batch_size=32).prefetch(buffer_size=tf.data.AUTOTUNE)\n",
    "\n",
    "# Map prepreprocessing function to test data\n",
    "Num_test_data = Num_test_data.map(preprocess_img, num_parallel_calls=tf.data.AUTOTUNE)\n",
    "# Turn test data into batches (don't need to shuffle)\n",
    "Num_test_data = Num_test_data.batch(32).prefetch(tf.data.AUTOTUNE)\n",
    "\n",
    "# Map prepreprocessing function to test data\n",
    "Num_valid_data = Num_valid_data.map(preprocess_img, num_parallel_calls=tf.data.AUTOTUNE)\n",
    "# Turn test data into batches (don't need to shuffle)\n",
    "Num_valid_data = Num_valid_data.batch(32).prefetch(tf.data.AUTOTUNE)"
   ]
  },
  {
   "cell_type": "code",
   "execution_count": 12,
   "id": "042b1d60",
   "metadata": {},
   "outputs": [
    {
     "data": {
      "text/plain": [
       "<PrefetchDataset element_spec=(TensorSpec(shape=(None, 28, 28, 1), dtype=tf.float32, name=None), TensorSpec(shape=(None,), dtype=tf.int64, name=None))>"
      ]
     },
     "execution_count": 12,
     "metadata": {},
     "output_type": "execute_result"
    }
   ],
   "source": [
    "Num_train_data"
   ]
  },
  {
   "cell_type": "markdown",
   "id": "41243bb2",
   "metadata": {},
   "source": [
    "Continue with AZ Datasets"
   ]
  },
  {
   "cell_type": "code",
   "execution_count": 13,
   "id": "df05ee39",
   "metadata": {},
   "outputs": [],
   "source": [
    "def load_az_dataset(datasetPath):\n",
    "    # List for storing data\n",
    "    data = []\n",
    "  \n",
    "    # List for storing labels\n",
    "    labels = []\n",
    "  \n",
    "    for row in open(datasetPath): #Openfile and start reading each row\n",
    "    #Split the row at every comma\n",
    "        row = row.split(\",\")\n",
    "    \n",
    "        #row[0] contains label\n",
    "        label = int(row[0])\n",
    "    \n",
    "        #Other all collumns contains pixel values make a saperate array for that\n",
    "        image = np.array([int(x) for x in row[1:]], dtype=\"uint8\")\n",
    "        \n",
    "        #Reshaping image to 28 x 28 pixels\n",
    "        image = image.reshape((28, 28))\n",
    "        \n",
    "        #append image to data\n",
    "        data.append(image)\n",
    "        \n",
    "        #append label to labels\n",
    "        labels.append(label)\n",
    "    \n",
    "    #Converting data to numpy array of type float32\n",
    "    data = np.array(data, dtype='float32')\n",
    "    data = np.expand_dims(data, axis=-1)\n",
    "    #Converting labels to type int\n",
    "    labels = np.array(labels, dtype=\"int64\")\n",
    "    \n",
    "    return (data, labels)"
   ]
  },
  {
   "cell_type": "code",
   "execution_count": 14,
   "id": "c253c1c9",
   "metadata": {},
   "outputs": [],
   "source": [
    "az_data, az_labels = load_az_dataset(dataPath)"
   ]
  },
  {
   "cell_type": "code",
   "execution_count": 15,
   "id": "227031b3",
   "metadata": {},
   "outputs": [
    {
     "data": {
      "text/plain": [
       "(372451, 28, 28, 1)"
      ]
     },
     "execution_count": 15,
     "metadata": {},
     "output_type": "execute_result"
    }
   ],
   "source": [
    "az_data.shape"
   ]
  },
  {
   "cell_type": "code",
   "execution_count": 16,
   "id": "06895522",
   "metadata": {},
   "outputs": [],
   "source": [
    "(AZ_train_data_X, AZ_test_data_X, AZ_train_data_Y, AZ_test_data_Y) = train_test_split(az_data, az_labels, test_size=0.20, random_state=42)\n",
    "(AZ_train_data_X, AZ_valid_data_X, AZ_train_data_Y, AZ_valid_data_Y) = train_test_split(AZ_train_data_X, AZ_train_data_Y, test_size=0.125, random_state=42)"
   ]
  },
  {
   "cell_type": "code",
   "execution_count": 17,
   "id": "5f177ba4",
   "metadata": {},
   "outputs": [
    {
     "data": {
      "text/plain": [
       "((260715, 28, 28, 1), (74491, 28, 28, 1))"
      ]
     },
     "execution_count": 17,
     "metadata": {},
     "output_type": "execute_result"
    }
   ],
   "source": [
    "AZ_train_data_X.shape, AZ_test_data_X.shape"
   ]
  },
  {
   "cell_type": "code",
   "execution_count": 18,
   "id": "873bad5d",
   "metadata": {},
   "outputs": [
    {
     "data": {
      "text/plain": [
       "((260715,), (74491,))"
      ]
     },
     "execution_count": 18,
     "metadata": {},
     "output_type": "execute_result"
    }
   ],
   "source": [
    "AZ_train_data_Y.shape, AZ_test_data_Y.shape"
   ]
  },
  {
   "cell_type": "code",
   "execution_count": 19,
   "id": "87b666dc",
   "metadata": {},
   "outputs": [
    {
     "data": {
      "text/plain": [
       "((37245, 28, 28, 1), (37245,))"
      ]
     },
     "execution_count": 19,
     "metadata": {},
     "output_type": "execute_result"
    }
   ],
   "source": [
    "AZ_valid_data_X.shape, AZ_valid_data_Y.shape"
   ]
  },
  {
   "cell_type": "code",
   "execution_count": 20,
   "id": "0acf5378",
   "metadata": {},
   "outputs": [],
   "source": [
    "AZ_train_data = tf.data.Dataset.from_tensor_slices((AZ_train_data_X, AZ_train_data_Y))\n",
    "AZ_test_data = tf.data.Dataset.from_tensor_slices((AZ_test_data_X, AZ_test_data_Y))\n",
    "AZ_valid_data = tf.data.Dataset.from_tensor_slices((AZ_valid_data_X, AZ_valid_data_Y))"
   ]
  },
  {
   "cell_type": "code",
   "execution_count": 21,
   "id": "40a0493f",
   "metadata": {},
   "outputs": [
    {
     "data": {
      "text/plain": [
       "<TensorSliceDataset element_spec=(TensorSpec(shape=(28, 28, 1), dtype=tf.float32, name=None), TensorSpec(shape=(), dtype=tf.int64, name=None))>"
      ]
     },
     "execution_count": 21,
     "metadata": {},
     "output_type": "execute_result"
    }
   ],
   "source": [
    "AZ_train_data"
   ]
  },
  {
   "cell_type": "code",
   "execution_count": 22,
   "id": "584a8660",
   "metadata": {},
   "outputs": [],
   "source": [
    "AZ_train_data = AZ_train_data.batch(batch_size=32).prefetch(buffer_size=tf.data.AUTOTUNE)\n",
    "AZ_test_data = AZ_test_data.batch(batch_size=32).prefetch(buffer_size=tf.data.AUTOTUNE)\n",
    "AZ_valid_data = AZ_valid_data.batch(batch_size=32).prefetch(buffer_size=tf.data.AUTOTUNE)"
   ]
  },
  {
   "cell_type": "code",
   "execution_count": 23,
   "id": "515e27d9",
   "metadata": {},
   "outputs": [
    {
     "data": {
      "text/plain": [
       "<PrefetchDataset element_spec=(TensorSpec(shape=(None, 28, 28, 1), dtype=tf.float32, name=None), TensorSpec(shape=(None,), dtype=tf.int64, name=None))>"
      ]
     },
     "execution_count": 23,
     "metadata": {},
     "output_type": "execute_result"
    }
   ],
   "source": [
    "AZ_train_data"
   ]
  },
  {
   "cell_type": "code",
   "execution_count": 24,
   "id": "9275b868",
   "metadata": {},
   "outputs": [],
   "source": [
    "all_train_data = AZ_train_data.concatenate(Num_train_data)\n",
    "all_test_data = AZ_test_data.concatenate(Num_test_data)\n",
    "all_valid_data = AZ_valid_data.concatenate(Num_valid_data).shuffle(1000)"
   ]
  },
  {
   "cell_type": "code",
   "execution_count": 25,
   "id": "fe54367e",
   "metadata": {},
   "outputs": [],
   "source": [
    "# Create base model\n",
    "input_shape = (28, 28, 1)\n",
    "input_t = tf.keras.Input(shape=(28,28,1))\n",
    "res_model = tf.keras.applications.ResNet50(include_top=False,\n",
    "                                              weights=None,\n",
    "                                              input_tensor=input_t)"
   ]
  },
  {
   "cell_type": "code",
   "execution_count": 26,
   "id": "231f9d14",
   "metadata": {},
   "outputs": [],
   "source": [
    "# Create Functional model  \n",
    "inputs = layers.Input(shape=(28,28,1), name=\"input_layer\")\n",
    "x = res_model(inputs, training=False) # set base_model to inference mode only\n",
    "x = layers.GlobalAveragePooling2D()(x)\n",
    "x = layers.Dense(36)(x)\n",
    "outputs = layers.Activation(\"softmax\", dtype=tf.float32)(x) \n",
    "model = tf.keras.Model(inputs, outputs)\n",
    "\n",
    "# Compile our resnet model\n",
    "model.compile(loss=\"sparse_categorical_crossentropy\",\n",
    "                     optimizer=tf.keras.optimizers.Adam(learning_rate=0.001),\n",
    "                     metrics=[\"accuracy\"])\n",
    "\n",
    "reduce_lr = tf.keras.callbacks.ReduceLROnPlateau(monitor=\"val_loss\",  \n",
    "                                                 factor=0.2, # multiply the learning rate by 0.2 (reduce by 5x)\n",
    "                                                 patience=2,\n",
    "                                                 verbose=1, # print out when learning rate goes down \n",
    "                                                 min_lr=1e-7)\n",
    "# Setup EarlyStopping callback to stop training if model's val_loss doesn't improve for 3 epochs\n",
    "early_stopping = tf.keras.callbacks.EarlyStopping(monitor=\"val_accuracy\", # watch the val loss metric\n",
    "                                                  patience=10,\n",
    "                                                  min_delta=0.0001,) # if val loss decreases for 3 epochs in a row, stop training\n",
    "\n",
    "# Create ModelCheckpoint callback to save best model during fine-tuning\n",
    "checkpoint_path = \"OCR_checkpoints/\"\n",
    "model_checkpoint = tf.keras.callbacks.ModelCheckpoint(checkpoint_path,\n",
    "                                                      save_best_only=True,\n",
    "                                                      monitor=\"val_loss\")"
   ]
  },
  {
   "cell_type": "code",
   "execution_count": 27,
   "id": "60f2cb31",
   "metadata": {},
   "outputs": [
    {
     "name": "stdout",
     "output_type": "stream",
     "text": [
      "Epoch 1/10\n",
      "9836/9836 [==============================] - ETA: 0s - loss: 0.2440 - accuracy: 0.9330INFO:tensorflow:Assets written to: OCR_checkpoints\\assets\n"
     ]
    },
    {
     "name": "stderr",
     "output_type": "stream",
     "text": [
      "INFO:tensorflow:Assets written to: OCR_checkpoints\\assets\n"
     ]
    },
    {
     "name": "stdout",
     "output_type": "stream",
     "text": [
      "9836/9836 [==============================] - 739s 74ms/step - loss: 0.2440 - accuracy: 0.9330 - val_loss: 192.2944 - val_accuracy: 0.1805 - lr: 0.0010\n",
      "Epoch 2/10\n",
      "9836/9836 [==============================] - ETA: 0s - loss: 0.1655 - accuracy: 0.9618INFO:tensorflow:Assets written to: OCR_checkpoints\\assets\n"
     ]
    },
    {
     "name": "stderr",
     "output_type": "stream",
     "text": [
      "INFO:tensorflow:Assets written to: OCR_checkpoints\\assets\n"
     ]
    },
    {
     "name": "stdout",
     "output_type": "stream",
     "text": [
      "9836/9836 [==============================] - 726s 74ms/step - loss: 0.1655 - accuracy: 0.9618 - val_loss: 1.6051 - val_accuracy: 0.8718 - lr: 0.0010\n",
      "Epoch 3/10\n",
      "9836/9836 [==============================] - ETA: 0s - loss: 0.1089 - accuracy: 0.9722INFO:tensorflow:Assets written to: OCR_checkpoints\\assets\n"
     ]
    },
    {
     "name": "stderr",
     "output_type": "stream",
     "text": [
      "INFO:tensorflow:Assets written to: OCR_checkpoints\\assets\n"
     ]
    },
    {
     "name": "stdout",
     "output_type": "stream",
     "text": [
      "9836/9836 [==============================] - 727s 74ms/step - loss: 0.1089 - accuracy: 0.9722 - val_loss: 1.4010 - val_accuracy: 0.8668 - lr: 0.0010\n",
      "Epoch 4/10\n",
      "9836/9836 [==============================] - 712s 72ms/step - loss: 0.0903 - accuracy: 0.9768 - val_loss: 13.3571 - val_accuracy: 0.7171 - lr: 0.0010\n",
      "Epoch 5/10\n",
      "9836/9836 [==============================] - ETA: 0s - loss: 0.0788 - accuracy: 0.9796\n",
      "Epoch 5: ReduceLROnPlateau reducing learning rate to 0.00020000000949949026.\n",
      "9836/9836 [==============================] - 714s 73ms/step - loss: 0.0788 - accuracy: 0.9796 - val_loss: 4.6070 - val_accuracy: 0.7792 - lr: 0.0010\n",
      "Epoch 6/10\n",
      "9836/9836 [==============================] - ETA: 0s - loss: 0.0373 - accuracy: 0.9902INFO:tensorflow:Assets written to: OCR_checkpoints\\assets\n"
     ]
    },
    {
     "name": "stderr",
     "output_type": "stream",
     "text": [
      "INFO:tensorflow:Assets written to: OCR_checkpoints\\assets\n"
     ]
    },
    {
     "name": "stdout",
     "output_type": "stream",
     "text": [
      "9836/9836 [==============================] - 732s 74ms/step - loss: 0.0373 - accuracy: 0.9902 - val_loss: 0.0441 - val_accuracy: 0.9891 - lr: 2.0000e-04\n",
      "Epoch 7/10\n",
      "9836/9836 [==============================] - ETA: 0s - loss: 0.0232 - accuracy: 0.9936INFO:tensorflow:Assets written to: OCR_checkpoints\\assets\n"
     ]
    },
    {
     "name": "stderr",
     "output_type": "stream",
     "text": [
      "INFO:tensorflow:Assets written to: OCR_checkpoints\\assets\n"
     ]
    },
    {
     "name": "stdout",
     "output_type": "stream",
     "text": [
      "9836/9836 [==============================] - 733s 75ms/step - loss: 0.0232 - accuracy: 0.9936 - val_loss: 0.0399 - val_accuracy: 0.9912 - lr: 2.0000e-04\n",
      "Epoch 8/10\n",
      "9836/9836 [==============================] - 715s 73ms/step - loss: 0.0170 - accuracy: 0.9953 - val_loss: 0.0401 - val_accuracy: 0.9919 - lr: 2.0000e-04\n",
      "Epoch 9/10\n",
      "9836/9836 [==============================] - ETA: 0s - loss: 0.0140 - accuracy: 0.9960\n",
      "Epoch 9: ReduceLROnPlateau reducing learning rate to 4.0000001899898055e-05.\n",
      "9836/9836 [==============================] - 715s 73ms/step - loss: 0.0140 - accuracy: 0.9960 - val_loss: 0.0414 - val_accuracy: 0.9916 - lr: 2.0000e-04\n",
      "Epoch 10/10\n",
      "9836/9836 [==============================] - ETA: 0s - loss: 0.0069 - accuracy: 0.9980INFO:tensorflow:Assets written to: OCR_checkpoints\\assets\n"
     ]
    },
    {
     "name": "stderr",
     "output_type": "stream",
     "text": [
      "INFO:tensorflow:Assets written to: OCR_checkpoints\\assets\n"
     ]
    },
    {
     "name": "stdout",
     "output_type": "stream",
     "text": [
      "\b\b\b\b\b\b\b\b\b\b\b\b\b\b\b\b\b\b\b\b\b\b\b\b\b\b\b\b\b\b\b\b\b\b\b\b\b\b\b\b\b\b\b\b\b\b\b\b\b\b\b\b\b\b\b\b\b\b\b\b\b\b\b\b\b\b\b\b\b\b\b\b\b\b\b\b\b\b\b\b\b\b\b\b\b\b\r",
      "9836/9836 [==============================] - 733s 74ms/step - loss: 0.0069 - accuracy: 0.9980 - val_loss: 0.0392 - val_accuracy: 0.9939 - lr: 4.0000e-05\n"
     ]
    }
   ],
   "source": [
    "# Fit the model\n",
    "history=model.fit(all_train_data,\n",
    "                  epochs=10,\n",
    "                  validation_data=all_test_data,\n",
    "                  callbacks=[model_checkpoint,\n",
    "                             early_stopping, \n",
    "                             reduce_lr])"
   ]
  },
  {
   "cell_type": "code",
   "execution_count": 29,
   "id": "e1efa1da",
   "metadata": {},
   "outputs": [],
   "source": [
    "def plot_loss_curves(history):\n",
    "    \"\"\"\n",
    "    Returns separate loss curves for training and validation metrics.\n",
    "    \"\"\" \n",
    "    loss = history.history['loss']\n",
    "    val_loss = history.history['val_loss']\n",
    "    \n",
    "    accuracy = history.history['accuracy']\n",
    "    val_accuracy = history.history['val_accuracy']\n",
    "    \n",
    "    epochs = range(len(history.history['loss']))\n",
    "    \n",
    "    # Plot loss\n",
    "    plt.plot(epochs, loss, label='training_loss')\n",
    "    plt.plot(epochs, val_loss, label='val_loss')\n",
    "    plt.title('Loss')\n",
    "    plt.xlabel('Epochs')\n",
    "    plt.legend()\n",
    "    \n",
    "    # Plot accuracy\n",
    "    plt.figure()\n",
    "    plt.plot(epochs, accuracy, label='training_accuracy')\n",
    "    plt.plot(epochs, val_accuracy, label='val_accuracy')\n",
    "    plt.title('Accuracy')\n",
    "    plt.xlabel('Epochs')\n",
    "    plt.legend();"
   ]
  },
  {
   "cell_type": "code",
   "execution_count": 30,
   "id": "38462abf",
   "metadata": {},
   "outputs": [
    {
     "data": {
      "image/png": "[encoded data removed]",
      "text/plain": [
       "<Figure size 432x288 with 1 Axes>"
      ]
     },
     "metadata": {
      "needs_background": "light"
     },
     "output_type": "display_data"
    },
    {
     "data": {
      "image/png": "[encoded data removed]",
      "text/plain": [
       "<Figure size 432x288 with 1 Axes>"
      ]
     },
     "metadata": {
      "needs_background": "light"
     },
     "output_type": "display_data"
    }
   ],
   "source": [
    "plot_loss_curves(history)"
   ]
  },
  {
   "cell_type": "code",
   "execution_count": 32,
   "id": "2e05b882",
   "metadata": {},
   "outputs": [
    {
     "name": "stdout",
     "output_type": "stream",
     "text": [
      "1352/1352 [==============================] - 28s 20ms/step - loss: 0.0431 - accuracy: 0.9932\n"
     ]
    },
    {
     "data": {
      "text/plain": [
       "[0.04307640716433525, 0.9932477474212646]"
      ]
     },
     "execution_count": 32,
     "metadata": {},
     "output_type": "execute_result"
    }
   ],
   "source": [
    "# Evaluate model on whole test dataset\n",
    "results_model = model.evaluate(all_valid_data)\n",
    "results_model"
   ]
  }
 ],
 "metadata": {
  "kernelspec": {
   "display_name": "Python 3 (ipykernel)",
   "language": "python",
   "name": "python3"
  },
  "language_info": {
   "codemirror_mode": {
    "name": "ipython",
    "version": 3
   },
   "file_extension": ".py",
   "mimetype": "text/x-python",
   "name": "python",
   "nbconvert_exporter": "python",
   "pygments_lexer": "ipython3",
   "version": "3.9.7"
  }
 },
 "nbformat": 4,
 "nbformat_minor": 5
}
