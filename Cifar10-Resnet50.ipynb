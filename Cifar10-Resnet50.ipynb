{
 "cells": [
  {
   "cell_type": "code",
   "execution_count": 1,
   "id": "354f2614",
   "metadata": {},
   "outputs": [],
   "source": [
    "import tensorflow as tf\n",
    "import tensorflow_hub as hub\n",
    "from tensorflow.keras import layers\n",
    "# Get TensorFlow Datasets\n",
    "import tensorflow_datasets as tfds\n",
    "resnet_url=\"https://tfhub.dev/google/imagenet/resnet_v2_50/feature_vector/5\""
   ]
  },
  {
   "cell_type": "code",
   "execution_count": 2,
   "id": "5f8a36a3",
   "metadata": {},
   "outputs": [
    {
     "name": "stdout",
     "output_type": "stream",
     "text": [
      "Num GPUs Available:  1\n"
     ]
    }
   ],
   "source": [
    "print(\"Num GPUs Available: \", len(tf.config.experimental.list_physical_devices('GPU')))"
   ]
  },
  {
   "cell_type": "code",
   "execution_count": 3,
   "id": "86f20644",
   "metadata": {},
   "outputs": [
    {
     "name": "stdout",
     "output_type": "stream",
     "text": [
      "True\n"
     ]
    }
   ],
   "source": [
    "# List available datasets\n",
    "datasets_list = tfds.list_builders() # get all available datasets in TFDS\n",
    "print(\"cifar10\" in datasets_list) # is the dataset we're after available?"
   ]
  },
  {
   "cell_type": "code",
   "execution_count": 4,
   "id": "3757c385",
   "metadata": {},
   "outputs": [],
   "source": [
    "# Load in the data (takes about 5-6 minutes in Google Colab)\n",
    "(train_data, test_data, valid_data), ds_info = tfds.load(name=\"cifar10\", # target dataset to get from TFDS\n",
    "                                             split=[\"train[:90%]\", \"test\", \"train[90%:]\"], # what splits of data should we get? note: not all datasets have train, valid, test\n",
    "                                             shuffle_files=True, # shuffle files on download?\n",
    "                                             as_supervised=True, # download data in tuple format (sample, label), e.g. (image, label)\n",
    "                                             with_info=True) # include dataset metadata? if so, tfds.load() returns tuple (data, ds_info)"
   ]
  },
  {
   "cell_type": "code",
   "execution_count": 5,
   "id": "061da7df",
   "metadata": {},
   "outputs": [
    {
     "name": "stdout",
     "output_type": "stream",
     "text": [
      "Train set size:  45000\n",
      "Test set size:  10000\n",
      "Valid set size:  5000\n"
     ]
    }
   ],
   "source": [
    "print(\"Train set size: \", len(train_data)) \n",
    "print(\"Test set size: \", len(test_data))  \n",
    "print(\"Valid set size: \", len(valid_data)) "
   ]
  },
  {
   "cell_type": "code",
   "execution_count": 6,
   "id": "25f2f4c6",
   "metadata": {},
   "outputs": [
    {
     "data": {
      "text/plain": [
       "['airplane',\n",
       " 'automobile',\n",
       " 'bird',\n",
       " 'cat',\n",
       " 'deer',\n",
       " 'dog',\n",
       " 'frog',\n",
       " 'horse',\n",
       " 'ship',\n",
       " 'truck']"
      ]
     },
     "execution_count": 6,
     "metadata": {},
     "output_type": "execute_result"
    }
   ],
   "source": [
    "class_names = ds_info.features[\"label\"].names\n",
    "class_names[:10]"
   ]
  },
  {
   "cell_type": "code",
   "execution_count": 7,
   "id": "b52df18d",
   "metadata": {},
   "outputs": [],
   "source": [
    "train_data_sample = train_data.take(1)"
   ]
  },
  {
   "cell_type": "code",
   "execution_count": 8,
   "id": "ccc9ffd8",
   "metadata": {},
   "outputs": [
    {
     "name": "stdout",
     "output_type": "stream",
     "text": [
      "\n",
      "  Image Shape: (32, 32, 3),\n",
      "  Image dtype: <dtype: 'uint8'>,\n",
      "  Target class from Food101 (tensor form): 7\n",
      "  Class name (str form): horse\n",
      "  \n"
     ]
    }
   ],
   "source": [
    "for image, label in train_data_sample:\n",
    "  print(f\"\"\"\n",
    "  Image Shape: {image.shape},\n",
    "  Image dtype: {image.dtype},\n",
    "  Target class from Food101 (tensor form): {label}\n",
    "  Class name (str form): {class_names[label]}\n",
    "  \"\"\")"
   ]
  },
  {
   "cell_type": "code",
   "execution_count": 9,
   "id": "9be007c9",
   "metadata": {},
   "outputs": [
    {
     "data": {
      "text/plain": [
       "(-0.5, 31.5, 31.5, -0.5)"
      ]
     },
     "execution_count": 9,
     "metadata": {},
     "output_type": "execute_result"
    },
    {
     "data": {
      "image/png": "[encoded data removed]",
      "text/plain": [
       "<Figure size 432x288 with 1 Axes>"
      ]
     },
     "metadata": {
      "needs_background": "light"
     },
     "output_type": "display_data"
    }
   ],
   "source": [
    "# Plot an image tensor\n",
    "import matplotlib.pyplot as plt\n",
    "plt.imshow(image)\n",
    "plt.title(class_names[int(label)]) # add title to image by indexing on class_names list\n",
    "plt.axis(False)"
   ]
  },
  {
   "cell_type": "code",
   "execution_count": 10,
   "id": "2bf8f579",
   "metadata": {},
   "outputs": [],
   "source": [
    "def input_preprocess(image, label):\n",
    "    image = tf.keras.applications.resnet50.preprocess_input(image)\n",
    "    return image, label\n",
    "# Make a function for preprocessing images\n",
    "def preprocess_img(image, label, img_shape=224):\n",
    "    \"\"\"\n",
    "    Converts image datatype from 'uint8' -> 'float32' and reshapes image to\n",
    "    [img_shape, img_shape, color_channels]\n",
    "    \"\"\"\n",
    "    image = tf.image.resize(image, [img_shape, img_shape]) # reshape to img_shape\n",
    "    image = tf.keras.applications.resnet50.preprocess_input(image)\n",
    "    #image = image/255.\n",
    "    return tf.cast(image, tf.float32), label # return (float32_image, label) tuple"
   ]
  },
  {
   "cell_type": "code",
   "execution_count": 11,
   "id": "013d9bb7",
   "metadata": {},
   "outputs": [],
   "source": [
    "# Map preprocessing function to training data (and paralellize)\n",
    "train_data = train_data.map(map_func=preprocess_img, num_parallel_calls=tf.data.AUTOTUNE)\n",
    "# Shuffle train_data and turn it into batches and prefetch it (load it faster)\n",
    "train_data = train_data.shuffle(buffer_size=1000).batch(batch_size=32).prefetch(buffer_size=tf.data.AUTOTUNE)\n",
    "\n",
    "# Map prepreprocessing function to test data\n",
    "test_data = test_data.map(preprocess_img, num_parallel_calls=tf.data.AUTOTUNE)\n",
    "# Turn test data into batches (don't need to shuffle)\n",
    "test_data = test_data.batch(32).prefetch(tf.data.AUTOTUNE)\n",
    "\n",
    "valid_data = valid_data.map(preprocess_img, num_parallel_calls=tf.data.AUTOTUNE)\n",
    "# Turn test data into batches (don't need to shuffle)\n",
    "valid_data = valid_data.batch(32).prefetch(tf.data.AUTOTUNE)"
   ]
  },
  {
   "cell_type": "code",
   "execution_count": 12,
   "id": "c151b66d",
   "metadata": {},
   "outputs": [
    {
     "data": {
      "text/plain": [
       "<PrefetchDataset element_spec=(TensorSpec(shape=(None, 224, 224, 3), dtype=tf.float32, name=None), TensorSpec(shape=(None,), dtype=tf.int64, name=None))>"
      ]
     },
     "execution_count": 12,
     "metadata": {},
     "output_type": "execute_result"
    }
   ],
   "source": [
    "train_data"
   ]
  },
  {
   "cell_type": "code",
   "execution_count": 13,
   "id": "ea85e97f",
   "metadata": {},
   "outputs": [],
   "source": [
    "# Create base model\n",
    "input_shape = (224, 224, 3)\n",
    "input_t = tf.keras.Input(shape=(224,224,3))\n",
    "res_model = tf.keras.applications.ResNet50(include_top=False,\n",
    "                                              weights='imagenet',\n",
    "                                              input_tensor=input_t)\n",
    "\n",
    "res_model.trainable = False # freeze base model layers\n",
    "\n",
    "for layer in res_model.layers[:143]:\n",
    "        layer.trainable = False"
   ]
  },
  {
   "cell_type": "code",
   "execution_count": 14,
   "id": "4d36b67c",
   "metadata": {},
   "outputs": [],
   "source": [
    "# Create Functional model \n",
    "inputs = layers.Input(shape=input_shape, name=\"input_layer\")\n",
    "x = res_model(inputs, training=False) # set base_model to inference mode only\n",
    "x = layers.Flatten()(x)\n",
    "x = layers.BatchNormalization()(x)\n",
    "x = layers.Dense(256, activation=\"relu\")(x)\n",
    "x = layers.Dropout(0.5)(x)\n",
    "x = layers.BatchNormalization()(x)\n",
    "x = layers.Dense(128, activation=\"relu\")(x)\n",
    "x = layers.Dropout(0.5)(x)\n",
    "x = layers.BatchNormalization()(x)\n",
    "x = layers.Dense(64, activation=\"relu\")(x)\n",
    "x = layers.Dropout(0.5)(x)\n",
    "x = layers.BatchNormalization()(x)\n",
    "x = layers.Dense(len(class_names))(x)\n",
    "outputs = layers.Activation(\"softmax\", dtype=tf.float32, name=\"softmax_float32\")(x) \n",
    "model = tf.keras.Model(inputs, outputs)\n",
    "\n",
    "# Compile our resnet model\n",
    "model.compile(loss=\"sparse_categorical_crossentropy\",\n",
    "                     optimizer=tf.keras.optimizers.Adam(learning_rate=0.0001),\n",
    "                     metrics=[\"accuracy\"])\n",
    "\n",
    "reduce_lr = tf.keras.callbacks.ReduceLROnPlateau(monitor=\"val_loss\",  \n",
    "                                                 factor=0.2, # multiply the learning rate by 0.2 (reduce by 5x)\n",
    "                                                 patience=2,\n",
    "                                                 verbose=1, # print out when learning rate goes down \n",
    "                                                 min_lr=1e-7)\n",
    "# Setup EarlyStopping callback to stop training if model's val_loss doesn't improve for 3 epochs\n",
    "early_stopping = tf.keras.callbacks.EarlyStopping(monitor=\"val_accuracy\", # watch the val loss metric\n",
    "                                                  patience=10,\n",
    "                                                  min_delta=0.0001,) # if val loss decreases for 3 epochs in a row, stop training\n",
    "\n",
    "# Create ModelCheckpoint callback to save best model during fine-tuning\n",
    "checkpoint_path = \"fine_tune_checkpoints/\"\n",
    "model_checkpoint = tf.keras.callbacks.ModelCheckpoint(checkpoint_path,\n",
    "                                                      save_best_only=True,\n",
    "                                                      monitor=\"val_loss\")\n",
    "\n"
   ]
  },
  {
   "cell_type": "code",
   "execution_count": 15,
   "id": "11a6f7b1",
   "metadata": {},
   "outputs": [
    {
     "name": "stdout",
     "output_type": "stream",
     "text": [
      "Epoch 1/5\n",
      "1407/1407 [==============================] - ETA: 0s - loss: 1.4578 - accuracy: 0.5196INFO:tensorflow:Assets written to: fine_tune_checkpoints\\assets\n"
     ]
    },
    {
     "name": "stderr",
     "output_type": "stream",
     "text": [
      "INFO:tensorflow:Assets written to: fine_tune_checkpoints\\assets\n"
     ]
    },
    {
     "name": "stdout",
     "output_type": "stream",
     "text": [
      "1407/1407 [==============================] - 253s 174ms/step - loss: 1.4578 - accuracy: 0.5196 - val_loss: 0.4663 - val_accuracy: 0.8906 - lr: 1.0000e-04\n",
      "Epoch 2/5\n",
      "1407/1407 [==============================] - ETA: 0s - loss: 0.8673 - accuracy: 0.7353INFO:tensorflow:Assets written to: fine_tune_checkpoints\\assets\n"
     ]
    },
    {
     "name": "stderr",
     "output_type": "stream",
     "text": [
      "INFO:tensorflow:Assets written to: fine_tune_checkpoints\\assets\n"
     ]
    },
    {
     "name": "stdout",
     "output_type": "stream",
     "text": [
      "1407/1407 [==============================] - 250s 177ms/step - loss: 0.8673 - accuracy: 0.7353 - val_loss: 0.3307 - val_accuracy: 0.9106 - lr: 1.0000e-04\n",
      "Epoch 3/5\n",
      "1407/1407 [==============================] - ETA: 0s - loss: 0.6624 - accuracy: 0.8050INFO:tensorflow:Assets written to: fine_tune_checkpoints\\assets\n"
     ]
    },
    {
     "name": "stderr",
     "output_type": "stream",
     "text": [
      "INFO:tensorflow:Assets written to: fine_tune_checkpoints\\assets\n"
     ]
    },
    {
     "name": "stdout",
     "output_type": "stream",
     "text": [
      "1407/1407 [==============================] - 249s 177ms/step - loss: 0.6624 - accuracy: 0.8050 - val_loss: 0.2823 - val_accuracy: 0.9150 - lr: 1.0000e-04\n",
      "Epoch 4/5\n",
      "1407/1407 [==============================] - ETA: 0s - loss: 0.5520 - accuracy: 0.8398INFO:tensorflow:Assets written to: fine_tune_checkpoints\\assets\n"
     ]
    },
    {
     "name": "stderr",
     "output_type": "stream",
     "text": [
      "INFO:tensorflow:Assets written to: fine_tune_checkpoints\\assets\n"
     ]
    },
    {
     "name": "stdout",
     "output_type": "stream",
     "text": [
      "1407/1407 [==============================] - 247s 175ms/step - loss: 0.5520 - accuracy: 0.8398 - val_loss: 0.2566 - val_accuracy: 0.9182 - lr: 1.0000e-04\n",
      "Epoch 5/5\n",
      "1407/1407 [==============================] - ETA: 0s - loss: 0.4669 - accuracy: 0.8654INFO:tensorflow:Assets written to: fine_tune_checkpoints\\assets\n"
     ]
    },
    {
     "name": "stderr",
     "output_type": "stream",
     "text": [
      "INFO:tensorflow:Assets written to: fine_tune_checkpoints\\assets\n"
     ]
    },
    {
     "name": "stdout",
     "output_type": "stream",
     "text": [
      "\b\b\b\b\b\b\b\b\b\b\b\b\b\b\b\b\b\b\b\b\b\b\b\b\b\b\b\b\b\b\b\b\b\b\b\b\b\b\b\b\b\b\b\b\b\b\b\b\b\b\b\b\b\b\b\b\b\b\b\b\b\b\b\b\b\b\b\b\b\b\b\b\b\b\b\b\b\b\b\b\b\b\b\b\b\b\r",
      "1407/1407 [==============================] - 248s 175ms/step - loss: 0.4669 - accuracy: 0.8654 - val_loss: 0.2458 - val_accuracy: 0.9198 - lr: 1.0000e-04\n"
     ]
    }
   ],
   "source": [
    "# Fit the model\n",
    "resnet_history=model.fit(train_data,\n",
    "                         epochs=5, \n",
    "                         validation_data=valid_data,\n",
    "                         callbacks=[model_checkpoint, # save only the best model during training\n",
    "                                    early_stopping, # stop model after X epochs of no improvements\n",
    "                                    reduce_lr])"
   ]
  },
  {
   "cell_type": "code",
   "execution_count": 16,
   "id": "d12741bc",
   "metadata": {},
   "outputs": [],
   "source": [
    "def plot_loss_curves(history):\n",
    "    \"\"\"\n",
    "    Returns separate loss curves for training and validation metrics.\n",
    "    \"\"\" \n",
    "    loss = history.history['loss']\n",
    "    val_loss = history.history['val_loss']\n",
    "    \n",
    "    accuracy = history.history['accuracy']\n",
    "    val_accuracy = history.history['val_accuracy']\n",
    "    \n",
    "    epochs = range(len(history.history['loss']))\n",
    "    \n",
    "    # Plot loss\n",
    "    plt.plot(epochs, loss, label='training_loss')\n",
    "    plt.plot(epochs, val_loss, label='val_loss')\n",
    "    plt.title('Loss')\n",
    "    plt.xlabel('Epochs')\n",
    "    plt.legend()\n",
    "    \n",
    "    # Plot accuracy\n",
    "    plt.figure()\n",
    "    plt.plot(epochs, accuracy, label='training_accuracy')\n",
    "    plt.plot(epochs, val_accuracy, label='val_accuracy')\n",
    "    plt.title('Accuracy')\n",
    "    plt.xlabel('Epochs')\n",
    "    plt.legend();"
   ]
  },
  {
   "cell_type": "code",
   "execution_count": 17,
   "id": "33551d73",
   "metadata": {},
   "outputs": [
    {
     "data": {
      "image/png": "[encoded data removed]",
      "text/plain": [
       "<Figure size 432x288 with 1 Axes>"
      ]
     },
     "metadata": {
      "needs_background": "light"
     },
     "output_type": "display_data"
    },
    {
     "data": {
      "image/png": "[encoded data removed]",
      "text/plain": [
       "<Figure size 432x288 with 1 Axes>"
      ]
     },
     "metadata": {
      "needs_background": "light"
     },
     "output_type": "display_data"
    }
   ],
   "source": [
    "plot_loss_curves(resnet_history)"
   ]
  },
  {
   "cell_type": "code",
   "execution_count": 18,
   "id": "723ad408",
   "metadata": {},
   "outputs": [
    {
     "name": "stdout",
     "output_type": "stream",
     "text": [
      "INFO:tensorflow:Assets written to: Cifar10_Resnet50/assets\n"
     ]
    },
    {
     "name": "stderr",
     "output_type": "stream",
     "text": [
      "INFO:tensorflow:Assets written to: Cifar10_Resnet50/assets\n"
     ]
    }
   ],
   "source": [
    "save_dir = \"Cifar10_Resnet50/\"\n",
    "\n",
    "# # Save model\n",
    "model.save(save_dir)"
   ]
  },
  {
   "cell_type": "code",
   "execution_count": 19,
   "id": "a1f2df70",
   "metadata": {},
   "outputs": [
    {
     "name": "stdout",
     "output_type": "stream",
     "text": [
      "313/313 [==============================] - 41s 131ms/step - loss: 0.2638 - accuracy: 0.9160\n"
     ]
    },
    {
     "data": {
      "text/plain": [
       "[0.2637881934642792, 0.9160000085830688]"
      ]
     },
     "execution_count": 19,
     "metadata": {},
     "output_type": "execute_result"
    }
   ],
   "source": [
    "# Evaluate model on whole test dataset\n",
    "Cifar10_extract_model = model.evaluate(test_data)\n",
    "Cifar10_extract_model"
   ]
  },
  {
   "cell_type": "code",
   "execution_count": 20,
   "id": "a9ab2a1b",
   "metadata": {},
   "outputs": [],
   "source": [
    "#model = tf.keras.models.load_model(\"Cifar10_Resnet50\")"
   ]
  },
  {
   "cell_type": "code",
   "execution_count": 21,
   "id": "419b1e97",
   "metadata": {},
   "outputs": [],
   "source": [
    "# Evaluate model on whole test dataset\n",
    "#CheckpointCifar10_extract_model = model.evaluate(test_data)\n",
    "#CheckpointCifar10_extract_model"
   ]
  },
  {
   "cell_type": "code",
   "execution_count": 22,
   "id": "cfabe1c8",
   "metadata": {},
   "outputs": [],
   "source": [
    "res_model.trainable = True # freeze base model layers\n",
    "\n",
    "for layer in res_model.layers[:-10]:\n",
    "        layer.trainable = False"
   ]
  },
  {
   "cell_type": "code",
   "execution_count": 23,
   "id": "bc1e5450",
   "metadata": {},
   "outputs": [
    {
     "name": "stdout",
     "output_type": "stream",
     "text": [
      "Epoch 5/12\n",
      "1407/1407 [==============================] - ETA: 0s - loss: 0.4302 - accuracy: 0.8769INFO:tensorflow:Assets written to: fine_tune_checkpoints\\assets\n"
     ]
    },
    {
     "name": "stderr",
     "output_type": "stream",
     "text": [
      "INFO:tensorflow:Assets written to: fine_tune_checkpoints\\assets\n"
     ]
    },
    {
     "name": "stdout",
     "output_type": "stream",
     "text": [
      "1407/1407 [==============================] - 267s 186ms/step - loss: 0.4302 - accuracy: 0.8769 - val_loss: 0.2357 - val_accuracy: 0.9210 - lr: 1.0000e-04\n",
      "Epoch 6/12\n",
      "1407/1407 [==============================] - 244s 173ms/step - loss: 0.3393 - accuracy: 0.9036 - val_loss: 0.2473 - val_accuracy: 0.9230 - lr: 1.0000e-04\n",
      "Epoch 7/12\n",
      "1407/1407 [==============================] - ETA: 0s - loss: 0.2912 - accuracy: 0.9180\n",
      "Epoch 7: ReduceLROnPlateau reducing learning rate to 1.9999999494757503e-05.\n",
      "1407/1407 [==============================] - 244s 173ms/step - loss: 0.2912 - accuracy: 0.9180 - val_loss: 0.2392 - val_accuracy: 0.9234 - lr: 1.0000e-04\n",
      "Epoch 8/12\n",
      "1407/1407 [==============================] - ETA: 0s - loss: 0.2219 - accuracy: 0.9404INFO:tensorflow:Assets written to: fine_tune_checkpoints\\assets\n"
     ]
    },
    {
     "name": "stderr",
     "output_type": "stream",
     "text": [
      "INFO:tensorflow:Assets written to: fine_tune_checkpoints\\assets\n"
     ]
    },
    {
     "name": "stdout",
     "output_type": "stream",
     "text": [
      "1407/1407 [==============================] - 261s 185ms/step - loss: 0.2219 - accuracy: 0.9404 - val_loss: 0.2214 - val_accuracy: 0.9310 - lr: 2.0000e-05\n",
      "Epoch 9/12\n",
      "1407/1407 [==============================] - ETA: 0s - loss: 0.1952 - accuracy: 0.9485INFO:tensorflow:Assets written to: fine_tune_checkpoints\\assets\n"
     ]
    },
    {
     "name": "stderr",
     "output_type": "stream",
     "text": [
      "INFO:tensorflow:Assets written to: fine_tune_checkpoints\\assets\n"
     ]
    },
    {
     "name": "stdout",
     "output_type": "stream",
     "text": [
      "1407/1407 [==============================] - 262s 186ms/step - loss: 0.1952 - accuracy: 0.9485 - val_loss: 0.2180 - val_accuracy: 0.9346 - lr: 2.0000e-05\n",
      "Epoch 10/12\n",
      "1407/1407 [==============================] - 249s 177ms/step - loss: 0.1762 - accuracy: 0.9561 - val_loss: 0.2223 - val_accuracy: 0.9354 - lr: 2.0000e-05\n",
      "Epoch 11/12\n",
      "1407/1407 [==============================] - ETA: 0s - loss: 0.1596 - accuracy: 0.9607\n",
      "Epoch 11: ReduceLROnPlateau reducing learning rate to 3.999999898951501e-06.\n",
      "1407/1407 [==============================] - 247s 175ms/step - loss: 0.1596 - accuracy: 0.9607 - val_loss: 0.2248 - val_accuracy: 0.9346 - lr: 2.0000e-05\n",
      "Epoch 12/12\n",
      "1407/1407 [==============================] - 247s 175ms/step - loss: 0.1492 - accuracy: 0.9624 - val_loss: 0.2225 - val_accuracy: 0.9364 - lr: 4.0000e-06\n"
     ]
    }
   ],
   "source": [
    "# Compile our resnet model\n",
    "model.compile(loss=\"sparse_categorical_crossentropy\",\n",
    "                     optimizer=tf.keras.optimizers.Adam(learning_rate=0.0001),\n",
    "                     metrics=[\"accuracy\"])\n",
    "# Fit the model\n",
    "Checkpoint_resnet_history=model.fit(train_data,\n",
    "                         epochs=12, \n",
    "                         validation_data=valid_data,\n",
    "                         callbacks=[model_checkpoint, # save only the best model during training\n",
    "                                    early_stopping, # stop model after X epochs of no improvements\n",
    "                                    reduce_lr],\n",
    "                         initial_epoch=resnet_history.epoch[-1])\n"
   ]
  },
  {
   "cell_type": "code",
   "execution_count": 24,
   "id": "f1f70d57",
   "metadata": {},
   "outputs": [
    {
     "data": {
      "image/png": "[encoded data removed]",
      "text/plain": [
       "<Figure size 432x288 with 1 Axes>"
      ]
     },
     "metadata": {
      "needs_background": "light"
     },
     "output_type": "display_data"
    },
    {
     "data": {
      "image/png": "[encoded data removed]",
      "text/plain": [
       "<Figure size 432x288 with 1 Axes>"
      ]
     },
     "metadata": {
      "needs_background": "light"
     },
     "output_type": "display_data"
    }
   ],
   "source": [
    "plot_loss_curves(Checkpoint_resnet_history)"
   ]
  },
  {
   "cell_type": "code",
   "execution_count": 25,
   "id": "e0106af9",
   "metadata": {},
   "outputs": [
    {
     "name": "stdout",
     "output_type": "stream",
     "text": [
      "313/313 [==============================] - 40s 126ms/step - loss: 0.2468 - accuracy: 0.9296\n"
     ]
    },
    {
     "data": {
      "text/plain": [
       "[0.24681423604488373, 0.9296000003814697]"
      ]
     },
     "execution_count": 25,
     "metadata": {},
     "output_type": "execute_result"
    }
   ],
   "source": [
    "# Evaluate model on whole test dataset\n",
    "results_feature_extract_model2 = model.evaluate(test_data)\n",
    "results_feature_extract_model2"
   ]
  },
  {
   "cell_type": "code",
   "execution_count": null,
   "id": "8f6cd10a",
   "metadata": {},
   "outputs": [],
   "source": []
  }
 ],
 "metadata": {
  "kernelspec": {
   "display_name": "Python 3 (ipykernel)",
   "language": "python",
   "name": "python3"
  },
  "language_info": {
   "codemirror_mode": {
    "name": "ipython",
    "version": 3
   },
   "file_extension": ".py",
   "mimetype": "text/x-python",
   "name": "python",
   "nbconvert_exporter": "python",
   "pygments_lexer": "ipython3",
   "version": "3.9.7"
  }
 },
 "nbformat": 4,
 "nbformat_minor": 5
}
